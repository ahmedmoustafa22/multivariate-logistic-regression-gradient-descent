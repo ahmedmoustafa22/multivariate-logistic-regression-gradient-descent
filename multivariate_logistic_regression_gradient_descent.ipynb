{
  "cells": [
    {
      "cell_type": "markdown",
      "metadata": {
        "id": "woQVcmq5w5O7"
      },
      "source": [
        "Import Libraries\n"
      ]
    },
    {
      "cell_type": "code",
      "execution_count": 47,
      "metadata": {
        "id": "rbh4KlPUv8Xz"
      },
      "outputs": [],
      "source": [
        "import numpy as np\n",
        "import pandas as pd\n",
        "from sklearn.preprocessing import PolynomialFeatures, StandardScaler\n",
        "import matplotlib.pyplot as plt"
      ]
    },
    {
      "cell_type": "markdown",
      "metadata": {
        "id": "OaJd_IxJw765"
      },
      "source": [
        "Download and Load Dataset"
      ]
    },
    {
      "cell_type": "code",
      "execution_count": 48,
      "metadata": {
        "colab": {
          "base_uri": "https://localhost:8080/",
          "height": 206
        },
        "id": "daUYhrJ8wHyv",
        "outputId": "3222bf7d-3d6c-4dec-8cc9-5a28e94af158"
      },
      "outputs": [
        {
          "name": "stdout",
          "output_type": "stream",
          "text": [
            "   longitude  latitude  housing_median_age  total_rooms  total_bedrooms  \\\n",
            "0    -122.23     37.88                41.0        880.0           129.0   \n",
            "1    -122.22     37.86                21.0       7099.0          1106.0   \n",
            "2    -122.24     37.85                52.0       1467.0           190.0   \n",
            "3    -122.25     37.85                52.0       1274.0           235.0   \n",
            "4    -122.25     37.85                52.0       1627.0           280.0   \n",
            "\n",
            "   population  households  median_income  median_house_value ocean_proximity  \n",
            "0       322.0       126.0         8.3252            452600.0        NEAR BAY  \n",
            "1      2401.0      1138.0         8.3014            358500.0        NEAR BAY  \n",
            "2       496.0       177.0         7.2574            352100.0        NEAR BAY  \n",
            "3       558.0       219.0         5.6431            341300.0        NEAR BAY  \n",
            "4       565.0       259.0         3.8462            342200.0        NEAR BAY  \n"
          ]
        }
      ],
      "source": [
        "import pandas as pd\n",
        "\n",
        "# Load the dataset\n",
        "df = pd.read_csv(\"C:/Users/ahmad/Desktop/housing.csv\")\n",
        "\n",
        "# Display the first 5 rows\n",
        "print(df.head())"
      ]
    },
    {
      "cell_type": "markdown",
      "metadata": {
        "id": "S6nakMRJw_MB"
      },
      "source": [
        "Data Preprocessing"
      ]
    },
    {
      "cell_type": "code",
      "execution_count": 49,
      "metadata": {
        "colab": {
          "base_uri": "https://localhost:8080/"
        },
        "id": "ISz_lml7wKud",
        "outputId": "dfb307dd-87ab-4588-8ae0-2b3d9e7d2bf5"
      },
      "outputs": [
        {
          "name": "stdout",
          "output_type": "stream",
          "text": [
            "Shape of X: (20433, 12)\n",
            "Shape of y: (20433,)\n"
          ]
        }
      ],
      "source": [
        "# Drop rows with missing values\n",
        "df.dropna(inplace=True)\n",
        "\n",
        "# Handle categorical columns (e.g., 'ocean_proximity') using one-hot encoding\n",
        "df = pd.get_dummies(df, columns=[\"ocean_proximity\"], drop_first=True)\n",
        "\n",
        "# Define input features (X) and target (y)\n",
        "X = df.drop(columns=[\"median_house_value\"])\n",
        "y = (df[\"median_house_value\"] > df[\"median_house_value\"].median()).astype(int)\n",
        "\n",
        "# Display the shape of X and y\n",
        "print(\"Shape of X:\", X.shape)\n",
        "print(\"Shape of y:\", y.shape)"
      ]
    },
    {
      "cell_type": "code",
      "execution_count": 60,
      "metadata": {},
      "outputs": [
        {
          "name": "stdout",
          "output_type": "stream",
          "text": [
            "   longitude  latitude  housing_median_age  total_rooms  total_bedrooms  \\\n",
            "0    -122.23     37.88                41.0        880.0           129.0   \n",
            "1    -122.22     37.86                21.0       7099.0          1106.0   \n",
            "2    -122.24     37.85                52.0       1467.0           190.0   \n",
            "3    -122.25     37.85                52.0       1274.0           235.0   \n",
            "4    -122.25     37.85                52.0       1627.0           280.0   \n",
            "\n",
            "   population  households  median_income  ocean_proximity_INLAND  \\\n",
            "0       322.0       126.0         8.3252                   False   \n",
            "1      2401.0      1138.0         8.3014                   False   \n",
            "2       496.0       177.0         7.2574                   False   \n",
            "3       558.0       219.0         5.6431                   False   \n",
            "4       565.0       259.0         3.8462                   False   \n",
            "\n",
            "   ocean_proximity_ISLAND  ocean_proximity_NEAR BAY  \\\n",
            "0                   False                      True   \n",
            "1                   False                      True   \n",
            "2                   False                      True   \n",
            "3                   False                      True   \n",
            "4                   False                      True   \n",
            "\n",
            "   ocean_proximity_NEAR OCEAN  \n",
            "0                       False  \n",
            "1                       False  \n",
            "2                       False  \n",
            "3                       False  \n",
            "4                       False  \n"
          ]
        }
      ],
      "source": [
        "print(X.head())"
      ]
    },
    {
      "cell_type": "markdown",
      "metadata": {},
      "source": [
        "Generate Polynomial Features"
      ]
    },
    {
      "cell_type": "code",
      "execution_count": 50,
      "metadata": {},
      "outputs": [],
      "source": [
        "# Feature Scaling\n",
        "scaler = StandardScaler()\n",
        "X_scaled = scaler.fit_transform(X)"
      ]
    },
    {
      "cell_type": "markdown",
      "metadata": {
        "id": "p4UCCVqCxBiO"
      },
      "source": [
        "Feature Scaling"
      ]
    },
    {
      "cell_type": "code",
      "execution_count": 51,
      "metadata": {
        "colab": {
          "base_uri": "https://localhost:8080/"
        },
        "id": "dSejXK7swMIs",
        "outputId": "24475358-71e8-4b3d-c9ae-812a40b054d0"
      },
      "outputs": [],
      "source": [
        "# Generate polynomial features of degree 2\n",
        "degree = 2\n",
        "poly = PolynomialFeatures(degree)\n",
        "X_poly = poly.fit_transform(X_scaled)"
      ]
    },
    {
      "cell_type": "markdown",
      "metadata": {
        "id": "8eJEri74xFtN"
      },
      "source": [
        "Initialize Model Parameters"
      ]
    },
    {
      "cell_type": "code",
      "execution_count": 52,
      "metadata": {
        "colab": {
          "base_uri": "https://localhost:8080/"
        },
        "id": "WAHUYvnzwQY1",
        "outputId": "88b48a6d-25c5-4297-fc2e-a88286b6892c"
      },
      "outputs": [
        {
          "name": "stdout",
          "output_type": "stream",
          "text": [
            "Shape of theta: (91,)\n"
          ]
        }
      ],
      "source": [
        "# Initialize weights (theta) to zeros\n",
        "m, n = X_poly.shape\n",
        "theta = np.zeros(n)\n",
        "\n",
        "# Display the shape of theta\n",
        "print(\"Shape of theta:\", theta.shape)"
      ]
    },
    {
      "cell_type": "markdown",
      "metadata": {
        "id": "iFfj2lAhxIR5"
      },
      "source": [
        "Define Helper Functions"
      ]
    },
    {
      "cell_type": "code",
      "execution_count": 53,
      "metadata": {
        "id": "F32vhCHqwRcc"
      },
      "outputs": [],
      "source": [
        "# Sigmoid function\n",
        "def sigmoid(z):\n",
        "    return 1 / (1 + np.exp(-z))\n",
        "\n",
        "# Cost function for logistic regression\n",
        "def compute_cost(X, y, theta):\n",
        "    m = len(y)\n",
        "    h = sigmoid(X @ theta)\n",
        "    return -np.mean(y * np.log(h) + (1 - y) * np.log(1 - h))\n",
        "\n",
        "# Gradient descent function\n",
        "def gradient_descent(X, y, theta, alpha, iterations):\n",
        "    m = len(y)\n",
        "    cost_history = []\n",
        "    for _ in range(iterations):\n",
        "        theta -= (alpha / m) * X.T @ (sigmoid(X @ theta) - y)\n",
        "        cost_history.append(compute_cost(X, y, theta))\n",
        "    return theta, cost_history"
      ]
    },
    {
      "cell_type": "markdown",
      "metadata": {
        "id": "lXNIm9nHxKC5"
      },
      "source": [
        "Train the Model"
      ]
    },
    {
      "cell_type": "code",
      "execution_count": 54,
      "metadata": {
        "colab": {
          "base_uri": "https://localhost:8080/"
        },
        "id": "qrhgSAEywTT_",
        "outputId": "81d04ecb-a534-4bb9-a61a-6b0c09f64982"
      },
      "outputs": [
        {
          "name": "stdout",
          "output_type": "stream",
          "text": [
            "Final cost: 0.40791707757354995\n"
          ]
        }
      ],
      "source": [
        "#hyperparameters\n",
        "alpha = 0.01  # Learning rate\n",
        "iterations = 1000\n",
        "\n",
        "# Train the model using gradient descent\n",
        "theta, cost_history = gradient_descent(X_poly, y, theta, alpha, iterations)\n",
        "\n",
        "print(\"Final cost:\", cost_history[-1])"
      ]
    },
    {
      "cell_type": "markdown",
      "metadata": {
        "id": "mc8iZ8nIxLpZ"
      },
      "source": [
        "Make Predictions"
      ]
    },
    {
      "cell_type": "code",
      "execution_count": 55,
      "metadata": {
        "colab": {
          "base_uri": "https://localhost:8080/"
        },
        "id": "arimBusTwUW8",
        "outputId": "f0d3be1c-9f83-46d4-d213-875cc08cccc9"
      },
      "outputs": [
        {
          "name": "stdout",
          "output_type": "stream",
          "text": [
            "First 10 predictions: [1 1 1 1 1 1 1 1 1 1]\n"
          ]
        }
      ],
      "source": [
        "def predict(X, theta):\n",
        "    return (sigmoid(X @ theta) >= 0.5).astype(int)\n",
        "\n",
        "# Make predictions on the training data\n",
        "y_pred = predict(X_poly, theta)\n",
        "\n",
        "print(\"First 10 predictions:\", y_pred[:10])"
      ]
    },
    {
      "cell_type": "markdown",
      "metadata": {
        "id": "0B3dlC9UxN0o"
      },
      "source": [
        "Evaluate Model Accuracy"
      ]
    },
    {
      "cell_type": "code",
      "execution_count": 56,
      "metadata": {
        "colab": {
          "base_uri": "https://localhost:8080/"
        },
        "id": "cLZTsh5NwVlK",
        "outputId": "22315550-55a0-489e-e934-ad2419794251"
      },
      "outputs": [
        {
          "name": "stdout",
          "output_type": "stream",
          "text": [
            "Training Accuracy: 0.8245\n"
          ]
        }
      ],
      "source": [
        "\n",
        "accuracy = np.mean(y_pred == y)\n",
        "print(f\"Training Accuracy: {accuracy:.4f}\")"
      ]
    },
    {
      "cell_type": "markdown",
      "metadata": {
        "id": "lWDLgD7_ygQq"
      },
      "source": [
        "The training accuracy is 82.45%, which is decent for a logistic regression model\n"
      ]
    },
    {
      "cell_type": "markdown",
      "metadata": {
        "id": "n25_yENhxPz9"
      },
      "source": [
        "Plot Cost History"
      ]
    },
    {
      "cell_type": "code",
      "execution_count": 57,
      "metadata": {
        "colab": {
          "base_uri": "https://localhost:8080/",
          "height": 472
        },
        "id": "xRQhe182wXfy",
        "outputId": "87220658-37bd-4a55-e059-53dca6902c29"
      },
      "outputs": [
        {
          "data": {
            "image/png": "[encoded data removed]",
            "text/plain": [
              "<Figure size 640x480 with 1 Axes>"
            ]
          },
          "metadata": {},
          "output_type": "display_data"
        }
      ],
      "source": [
        "\n",
        "plt.plot(range(iterations), cost_history)\n",
        "plt.xlabel(\"Iterations\")\n",
        "plt.ylabel(\"Cost\")\n",
        "plt.title(\"Cost vs. Iterations\")\n",
        "plt.show()"
      ]
    },
    {
      "cell_type": "markdown",
      "metadata": {
        "id": "N93hdC9iybh9"
      },
      "source": [
        "The cost function is steadily decreasing over the iterations, which is a good sign that gradient descent is working correctly. The curve follows a typical exponential decay shape, meaning the model is converging. However, the cost is still decreasing"
      ]
    },
    {
      "cell_type": "code",
      "execution_count": 58,
      "metadata": {},
      "outputs": [
        {
          "data": {
            "text/plain": [
              "['polynomial_features.pkl']"
            ]
          },
          "execution_count": 58,
          "metadata": {},
          "output_type": "execute_result"
        }
      ],
      "source": [
        "import joblib\n",
        "\n",
        "# Save the model and preprocessing objects\n",
        "joblib.dump(theta, \"model_theta.pkl\")\n",
        "joblib.dump(scaler, \"scaler.pkl\")\n",
        "joblib.dump(poly, \"polynomial_features.pkl\")"
      ]
    }
  ],
  "metadata": {
    "colab": {
      "provenance": []
    },
    "kernelspec": {
      "display_name": "environment3",
      "language": "python",
      "name": "python3"
    },
    "language_info": {
      "codemirror_mode": {
        "name": "ipython",
        "version": 3
      },
      "file_extension": ".py",
      "mimetype": "text/x-python",
      "name": "python",
      "nbconvert_exporter": "python",
      "pygments_lexer": "ipython3",
      "version": "3.9.20"
    }
  },
  "nbformat": 4,
  "nbformat_minor": 0
}
